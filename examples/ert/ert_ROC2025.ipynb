{
 "cells": [
  {
   "cell_type": "markdown",
   "id": "dabf969b",
   "metadata": {},
   "source": [
    "# ERT (Electrical Resistivity Tomography) \n",
    "\n",
    "- Emmanuel Castillo & Nadine Ushakov\n",
    "- emmanuel.castillotaborda@utallas.edu & nadine.igonin@utdallas.edu"
   ]
  },
  {
   "cell_type": "markdown",
   "id": "3494f0ed",
   "metadata": {},
   "source": [
    "# Installation"
   ]
  },
  {
   "cell_type": "code",
   "execution_count": null,
   "id": "e3966333",
   "metadata": {},
   "outputs": [],
   "source": [
    "!apt-get update\n",
    "!apt-get install -y \\\n",
    "    build-essential \\\n",
    "    libopenblas-dev \\\n",
    "    libsuitesparse-dev \\\n",
    "    libboost-all-dev \\\n",
    "    cmake \\\n",
    "    python3-dev\n",
    "!pip uninstall -y \\\n",
    "  numpy numba pytensor jax jaxlib tensorflow spacy pymc librosa \\\n",
    "  dask-cuda umap-learn pynndescent cudf-cu12 stumpy shap \\\n",
    "  tensorflow-decision-forests chex cuml-cu12 dopamine-rl \\\n",
    "  orbax-checkpoint optax flax dask-cudf-cu12 raft-dask-cu12 tsfresh\n",
    "!pip install --no-deps pgcore==1.5.0\n",
    "!pip install numpy==1.26.4\n",
    "!pip install --no-deps pygimli==1.5.4\n",
    "import os\n",
    "os._exit(00)"
   ]
  },
  {
   "cell_type": "markdown",
   "id": "66822724",
   "metadata": {},
   "source": [
    "## First test\n",
    "Be sure to have libcholmod.so.3 or libumfpack.so.5. Otherwise you can create symbolic links as described here: https://github.com/gimli-org/gimli/issues/761#issuecomment-2315873346"
   ]
  },
  {
   "cell_type": "code",
   "execution_count": null,
   "id": "9e553f5b",
   "metadata": {},
   "outputs": [],
   "source": [
    "import os\n",
    "\n",
    "# List of required shared libraries with full paths\n",
    "required_libs = [\n",
    "    \"/usr/lib/x86_64-linux-gnu/libcholmod.so.3\",\n",
    "    \"/usr/lib/x86_64-linux-gnu/libumfpack.so.5\"\n",
    "]\n",
    "\n",
    "for lib in required_libs:\n",
    "    assert os.path.exists(lib), f\"Required library not found: {lib}\"\n",
    "\n",
    "print(f\"All required shared libraries are present: {required_libs}\")"
   ]
  },
  {
   "cell_type": "markdown",
   "id": "a6f2f124",
   "metadata": {},
   "source": [
    "## Second test\n",
    "\n",
    "- expected_pygimli_version = \"1.5.4\"\n",
    "- expected_numpy_version = \"1.26.4\""
   ]
  },
  {
   "cell_type": "code",
   "execution_count": null,
   "id": "d7067059",
   "metadata": {},
   "outputs": [],
   "source": [
    "import pygimli\n",
    "import numpy\n",
    "\n",
    "expected_pygimli_version = \"1.5.4\"\n",
    "expected_numpy_version = \"1.26.4\"\n",
    "\n",
    "print(\"pyGIMLi version:\", pygimli.__version__)\n",
    "print(\"numpy version:\", numpy.__version__)\n",
    "\n",
    "assert pygimli.__version__ == expected_pygimli_version, f\"Expected pyGIMLi {expected_pygimli_version} but got {pygimli.__version__}\"\n",
    "assert numpy.__version__ == expected_numpy_version, f\"Expected numpy {expected_numpy_version} but got {numpy.__version__}\""
   ]
  },
  {
   "cell_type": "markdown",
   "id": "42d4cd47",
   "metadata": {},
   "source": [
    "...ready to work with pygimli!"
   ]
  },
  {
   "cell_type": "markdown",
   "id": "92e51eba",
   "metadata": {},
   "source": [
    "# Reading the data"
   ]
  },
  {
   "cell_type": "code",
   "execution_count": 1,
   "id": "d97bcdab",
   "metadata": {},
   "outputs": [],
   "source": [
    "import pandas as pd\n",
    "import matplotlib.pyplot as plt\n",
    "import seaborn as sns\n",
    "import ert"
   ]
  },
  {
   "cell_type": "markdown",
   "id": "74ab67be",
   "metadata": {},
   "source": [
    "# STG Data"
   ]
  },
  {
   "cell_type": "code",
   "execution_count": 7,
   "id": "742a5990",
   "metadata": {},
   "outputs": [
    {
     "name": "stdout",
     "output_type": "stream",
     "text": [
      "Help on function parse_stg in module ert:\n",
      "\n",
      "parse_stg(filepath, join_date_time=True)\n",
      "    Read a .stg file exported from SuperSting and return a pandas DataFrame.\n",
      "    \n",
      "    Parameters:\n",
      "        filepath (str): Path to the .stg file.\n",
      "        join_date_time (bool): If True, combine date and time into a single datetime object in 'date_time' column.\n",
      "    \n",
      "    Returns:\n",
      "        pd.DataFrame: Parsed .stg data.\n",
      "\n",
      "None\n"
     ]
    }
   ],
   "source": [
    "print(help(ert.parse_stg))"
   ]
  },
  {
   "cell_type": "code",
   "execution_count": 8,
   "id": "598ee61a",
   "metadata": {},
   "outputs": [
    {
     "name": "stdout",
     "output_type": "stream",
     "text": [
      "   record_num  user           date_time       V/I  error_percent_tenths  \\\n",
      "0           1  USER 2025-03-26 10:07:56  0.564647                    19   \n",
      "1           2  USER 2025-03-26 10:08:18  0.123888                    32   \n",
      "2           3  USER 2025-03-26 10:08:40  0.052938                    50   \n",
      "3           4  USER 2025-03-26 10:09:03  0.031073                    58   \n",
      "4           5  USER 2025-03-26 10:09:25  0.011693                    19   \n",
      "\n",
      "   current_mA  resistivity command_id   Ax   Ay  ...   Nz  ip_time_slot_ms  \\\n",
      "0         299      15.9650    ROC2025  1.5  0.0  ...  0.0              100   \n",
      "1         301      14.0114    ROC2025  1.5  0.0  ...  0.0              100   \n",
      "2         303      14.9679    ROC2025  1.5  0.0  ...  0.0              100   \n",
      "3         304      17.5715    ROC2025  1.5  0.0  ...  0.0              100   \n",
      "4         305      11.5712    ROC2025  1.5  0.0  ...  0.0              100   \n",
      "\n",
      "   ip_time_constant  ip_slot1  ip_slot2  ip_slot3  ip_slot4  ip_slot5  \\\n",
      "0               500  0.000138  0.000056  0.000063  0.000044  0.000019   \n",
      "1               500  0.000486  0.000258 -0.000182  0.000379  0.000212   \n",
      "2               500 -0.000211  0.000457 -0.000542  0.001000 -0.000372   \n",
      "3               500 -0.000154  0.000300  0.000907 -0.001205  0.001423   \n",
      "4               500  0.000777  0.000300  0.000175  0.000209  0.000238   \n",
      "\n",
      "   ip_slot6  ip_total  \n",
      "0  0.000031  0.000350  \n",
      "1  0.000121  0.001274  \n",
      "2  0.000417  0.000749  \n",
      "3  0.000904  0.002174  \n",
      "4  0.000310  0.002009  \n",
      "\n",
      "[5 rows x 29 columns]\n",
      "Index(['record_num', 'user', 'date_time', 'V/I', 'error_percent_tenths',\n",
      "       'current_mA', 'resistivity', 'command_id', 'Ax', 'Ay', 'Az', 'Bx', 'By',\n",
      "       'Bz', 'Mx', 'My', 'Mz', 'Nx', 'Ny', 'Nz', 'ip_time_slot_ms',\n",
      "       'ip_time_constant', 'ip_slot1', 'ip_slot2', 'ip_slot3', 'ip_slot4',\n",
      "       'ip_slot5', 'ip_slot6', 'ip_total'],\n",
      "      dtype='object')\n"
     ]
    }
   ],
   "source": [
    "\n",
    "stg_filepath = \"../data/ROC_ERT_032625/ROC2025.stg\"\n",
    "\n",
    "# Load the STG file\n",
    "stg = ert.parse_stg(stg_filepath)\n",
    "print(stg.head())\n",
    "print(stg.columns)\n",
    "stg.to_csv(\"stg.csv\", index=False)"
   ]
  },
  {
   "cell_type": "markdown",
   "id": "6f5c5dba",
   "metadata": {},
   "source": [
    "Review the summary. (Notice the values of Ay, Az,By,Bz,My, Mz)"
   ]
  },
  {
   "cell_type": "code",
   "execution_count": 9,
   "id": "e0c2ef6f",
   "metadata": {},
   "outputs": [
    {
     "data": {
      "text/html": [
       "<div>\n",
       "<style scoped>\n",
       "    .dataframe tbody tr th:only-of-type {\n",
       "        vertical-align: middle;\n",
       "    }\n",
       "\n",
       "    .dataframe tbody tr th {\n",
       "        vertical-align: top;\n",
       "    }\n",
       "\n",
       "    .dataframe thead th {\n",
       "        text-align: right;\n",
       "    }\n",
       "</style>\n",
       "<table border=\"1\" class=\"dataframe\">\n",
       "  <thead>\n",
       "    <tr style=\"text-align: right;\">\n",
       "      <th></th>\n",
       "      <th>current_mA</th>\n",
       "      <th>resistivity</th>\n",
       "      <th>Ax</th>\n",
       "      <th>Ay</th>\n",
       "      <th>Az</th>\n",
       "      <th>Bx</th>\n",
       "      <th>By</th>\n",
       "      <th>Bz</th>\n",
       "      <th>Mx</th>\n",
       "      <th>My</th>\n",
       "      <th>Mz</th>\n",
       "      <th>Nx</th>\n",
       "      <th>Ny</th>\n",
       "      <th>Nz</th>\n",
       "    </tr>\n",
       "  </thead>\n",
       "  <tbody>\n",
       "    <tr>\n",
       "      <th>count</th>\n",
       "      <td>170.000000</td>\n",
       "      <td>170.000000</td>\n",
       "      <td>170.000000</td>\n",
       "      <td>170.0</td>\n",
       "      <td>170.0</td>\n",
       "      <td>170.000000</td>\n",
       "      <td>170.0</td>\n",
       "      <td>170.0</td>\n",
       "      <td>170.000000</td>\n",
       "      <td>170.0</td>\n",
       "      <td>170.0</td>\n",
       "      <td>170.000000</td>\n",
       "      <td>170.0</td>\n",
       "      <td>170.0</td>\n",
       "    </tr>\n",
       "    <tr>\n",
       "      <th>mean</th>\n",
       "      <td>349.052941</td>\n",
       "      <td>14.305113</td>\n",
       "      <td>7.641176</td>\n",
       "      <td>0.0</td>\n",
       "      <td>0.0</td>\n",
       "      <td>8.611765</td>\n",
       "      <td>0.0</td>\n",
       "      <td>0.0</td>\n",
       "      <td>13.305882</td>\n",
       "      <td>0.0</td>\n",
       "      <td>0.0</td>\n",
       "      <td>15.441176</td>\n",
       "      <td>0.0</td>\n",
       "      <td>0.0</td>\n",
       "    </tr>\n",
       "    <tr>\n",
       "      <th>std</th>\n",
       "      <td>34.393178</td>\n",
       "      <td>16.024277</td>\n",
       "      <td>4.543421</td>\n",
       "      <td>0.0</td>\n",
       "      <td>0.0</td>\n",
       "      <td>6.560315</td>\n",
       "      <td>0.0</td>\n",
       "      <td>0.0</td>\n",
       "      <td>4.657242</td>\n",
       "      <td>0.0</td>\n",
       "      <td>0.0</td>\n",
       "      <td>4.956564</td>\n",
       "      <td>0.0</td>\n",
       "      <td>0.0</td>\n",
       "    </tr>\n",
       "    <tr>\n",
       "      <th>min</th>\n",
       "      <td>262.000000</td>\n",
       "      <td>-94.752200</td>\n",
       "      <td>0.000000</td>\n",
       "      <td>0.0</td>\n",
       "      <td>0.0</td>\n",
       "      <td>0.000000</td>\n",
       "      <td>0.0</td>\n",
       "      <td>0.0</td>\n",
       "      <td>1.500000</td>\n",
       "      <td>0.0</td>\n",
       "      <td>0.0</td>\n",
       "      <td>3.000000</td>\n",
       "      <td>0.0</td>\n",
       "      <td>0.0</td>\n",
       "    </tr>\n",
       "    <tr>\n",
       "      <th>25%</th>\n",
       "      <td>321.000000</td>\n",
       "      <td>11.884000</td>\n",
       "      <td>4.500000</td>\n",
       "      <td>0.0</td>\n",
       "      <td>0.0</td>\n",
       "      <td>3.000000</td>\n",
       "      <td>0.0</td>\n",
       "      <td>0.0</td>\n",
       "      <td>10.500000</td>\n",
       "      <td>0.0</td>\n",
       "      <td>0.0</td>\n",
       "      <td>12.000000</td>\n",
       "      <td>0.0</td>\n",
       "      <td>0.0</td>\n",
       "    </tr>\n",
       "    <tr>\n",
       "      <th>50%</th>\n",
       "      <td>349.000000</td>\n",
       "      <td>14.579700</td>\n",
       "      <td>7.500000</td>\n",
       "      <td>0.0</td>\n",
       "      <td>0.0</td>\n",
       "      <td>7.500000</td>\n",
       "      <td>0.0</td>\n",
       "      <td>0.0</td>\n",
       "      <td>13.500000</td>\n",
       "      <td>0.0</td>\n",
       "      <td>0.0</td>\n",
       "      <td>16.500000</td>\n",
       "      <td>0.0</td>\n",
       "      <td>0.0</td>\n",
       "    </tr>\n",
       "    <tr>\n",
       "      <th>75%</th>\n",
       "      <td>370.000000</td>\n",
       "      <td>16.509450</td>\n",
       "      <td>10.500000</td>\n",
       "      <td>0.0</td>\n",
       "      <td>0.0</td>\n",
       "      <td>13.500000</td>\n",
       "      <td>0.0</td>\n",
       "      <td>0.0</td>\n",
       "      <td>16.500000</td>\n",
       "      <td>0.0</td>\n",
       "      <td>0.0</td>\n",
       "      <td>19.500000</td>\n",
       "      <td>0.0</td>\n",
       "      <td>0.0</td>\n",
       "    </tr>\n",
       "    <tr>\n",
       "      <th>max</th>\n",
       "      <td>452.000000</td>\n",
       "      <td>101.551000</td>\n",
       "      <td>19.500000</td>\n",
       "      <td>0.0</td>\n",
       "      <td>0.0</td>\n",
       "      <td>22.500000</td>\n",
       "      <td>0.0</td>\n",
       "      <td>0.0</td>\n",
       "      <td>21.000000</td>\n",
       "      <td>0.0</td>\n",
       "      <td>0.0</td>\n",
       "      <td>22.500000</td>\n",
       "      <td>0.0</td>\n",
       "      <td>0.0</td>\n",
       "    </tr>\n",
       "  </tbody>\n",
       "</table>\n",
       "</div>"
      ],
      "text/plain": [
       "       current_mA  resistivity          Ax     Ay     Az          Bx     By  \\\n",
       "count  170.000000   170.000000  170.000000  170.0  170.0  170.000000  170.0   \n",
       "mean   349.052941    14.305113    7.641176    0.0    0.0    8.611765    0.0   \n",
       "std     34.393178    16.024277    4.543421    0.0    0.0    6.560315    0.0   \n",
       "min    262.000000   -94.752200    0.000000    0.0    0.0    0.000000    0.0   \n",
       "25%    321.000000    11.884000    4.500000    0.0    0.0    3.000000    0.0   \n",
       "50%    349.000000    14.579700    7.500000    0.0    0.0    7.500000    0.0   \n",
       "75%    370.000000    16.509450   10.500000    0.0    0.0   13.500000    0.0   \n",
       "max    452.000000   101.551000   19.500000    0.0    0.0   22.500000    0.0   \n",
       "\n",
       "          Bz          Mx     My     Mz          Nx     Ny     Nz  \n",
       "count  170.0  170.000000  170.0  170.0  170.000000  170.0  170.0  \n",
       "mean     0.0   13.305882    0.0    0.0   15.441176    0.0    0.0  \n",
       "std      0.0    4.657242    0.0    0.0    4.956564    0.0    0.0  \n",
       "min      0.0    1.500000    0.0    0.0    3.000000    0.0    0.0  \n",
       "25%      0.0   10.500000    0.0    0.0   12.000000    0.0    0.0  \n",
       "50%      0.0   13.500000    0.0    0.0   16.500000    0.0    0.0  \n",
       "75%      0.0   16.500000    0.0    0.0   19.500000    0.0    0.0  \n",
       "max      0.0   21.000000    0.0    0.0   22.500000    0.0    0.0  "
      ]
     },
     "execution_count": 9,
     "metadata": {},
     "output_type": "execute_result"
    }
   ],
   "source": [
    "stg[[\"current_mA\",\"resistivity\",\"Ax\",\"Ay\",\"Az\",\"Bx\",\"By\",\"Bz\",\"Mx\",\"My\",\"Mz\",\"Nx\",\"Ny\",\"Nz\"]].describe()"
   ]
  },
  {
   "cell_type": "markdown",
   "id": "a76d73f9",
   "metadata": {},
   "source": [
    "let's check the resistivity. Negative values usually indicate: Instrumental error, bad or noisy data (e.g., poor electrode contact or external interference)"
   ]
  },
  {
   "cell_type": "code",
   "execution_count": null,
   "id": "75fcb415",
   "metadata": {},
   "outputs": [
    {
     "data": {
      "image/png": "[encoded data removed]",
      "text/plain": [
       "<Figure size 600x600 with 1 Axes>"
      ]
     },
     "metadata": {},
     "output_type": "display_data"
    }
   ],
   "source": [
    "import seaborn as sns\n",
    "import matplotlib.pyplot as plt\n",
    "\n",
    "plt.figure(figsize=(6, 6))\n",
    "sns.boxplot(y=stg['resistivity'].dropna())\n",
    "plt.title(\"Boxplot of Resistivity\")\n",
    "plt.ylabel(\"Apparent Resistivity (ohm-m)\")\n",
    "plt.show()"
   ]
  },
  {
   "cell_type": "markdown",
   "id": "691233e2",
   "metadata": {},
   "source": [
    "# ERT Analysis"
   ]
  }
 ],
 "metadata": {
  "kernelspec": {
   "display_name": "pg",
   "language": "python",
   "name": "python3"
  },
  "language_info": {
   "codemirror_mode": {
    "name": "ipython",
    "version": 3
   },
   "file_extension": ".py",
   "mimetype": "text/x-python",
   "name": "python",
   "nbconvert_exporter": "python",
   "pygments_lexer": "ipython3",
   "version": "3.11.9"
  }
 },
 "nbformat": 4,
 "nbformat_minor": 5
}
