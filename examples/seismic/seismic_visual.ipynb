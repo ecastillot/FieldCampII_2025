{
  "cells": [
    {
      "cell_type": "markdown",
      "id": "dabf969b",
      "metadata": {
        "id": "dabf969b"
      },
      "source": [
        "# Seismic\n",
        "**Some Basics**\n",
        "\n",
        "\n",
        "Author: Emmanuel Castillo\n",
        "\n",
        "emmanuel.castillotaborda@utdallas.edu"
      ]
    },
    {
      "cell_type": "code",
      "execution_count": 1,
      "id": "db0659e8",
      "metadata": {
        "id": "db0659e8",
        "outputId": "b128c3f6-7e2f-42e1-e22e-8322d9dfb82a",
        "colab": {
          "base_uri": "https://localhost:8080/",
          "height": 1000
        }
      },
      "outputs": [
        {
          "output_type": "stream",
          "name": "stdout",
          "text": [
            "Cloning into 'FieldCampII_2025'...\n",
            "remote: Enumerating objects: 200, done.\u001b[K\n",
            "remote: Counting objects: 100% (89/89), done.\u001b[K\n",
            "remote: Compressing objects: 100% (69/69), done.\u001b[K\n",
            "remote: Total 200 (delta 30), reused 73 (delta 16), pack-reused 111 (from 3)\u001b[K\n",
            "Receiving objects: 100% (200/200), 335.10 MiB | 26.12 MiB/s, done.\n",
            "Resolving deltas: 100% (33/33), done.\n",
            "Updating files: 100% (104/104), done.\n",
            "Collecting obspy\n",
            "  Downloading obspy-1.4.2-cp311-cp311-manylinux_2_17_x86_64.manylinux2014_x86_64.whl.metadata (3.9 kB)\n",
            "Collecting obsplus\n",
            "  Downloading obsplus-0.3.1-py3-none-any.whl.metadata (12 kB)\n",
            "Requirement already satisfied: numpy>=1.20 in /usr/local/lib/python3.11/dist-packages (from obspy) (2.0.2)\n",
            "Requirement already satisfied: scipy>=1.7 in /usr/local/lib/python3.11/dist-packages (from obspy) (1.15.3)\n",
            "Requirement already satisfied: matplotlib>=3.3 in /usr/local/lib/python3.11/dist-packages (from obspy) (3.10.0)\n",
            "Requirement already satisfied: lxml in /usr/local/lib/python3.11/dist-packages (from obspy) (5.4.0)\n",
            "Requirement already satisfied: setuptools in /usr/local/lib/python3.11/dist-packages (from obspy) (75.2.0)\n",
            "Collecting sqlalchemy<2 (from obspy)\n",
            "  Downloading SQLAlchemy-1.4.54-cp311-cp311-manylinux_2_5_x86_64.manylinux1_x86_64.manylinux_2_17_x86_64.manylinux2014_x86_64.whl.metadata (10 kB)\n",
            "Requirement already satisfied: decorator in /usr/local/lib/python3.11/dist-packages (from obspy) (4.4.2)\n",
            "Requirement already satisfied: requests in /usr/local/lib/python3.11/dist-packages (from obspy) (2.32.3)\n",
            "Collecting numpy>=1.20 (from obspy)\n",
            "  Downloading numpy-1.26.4-cp311-cp311-manylinux_2_17_x86_64.manylinux2014_x86_64.whl.metadata (61 kB)\n",
            "\u001b[2K     \u001b[90m━━━━━━━━━━━━━━━━━━━━━━━━━━━━━━━━━━━━━━━━\u001b[0m \u001b[32m61.0/61.0 kB\u001b[0m \u001b[31m3.8 MB/s\u001b[0m eta \u001b[36m0:00:00\u001b[0m\n",
            "\u001b[?25hRequirement already satisfied: pandas>=1.0 in /usr/local/lib/python3.11/dist-packages (from obsplus) (2.2.2)\n",
            "Requirement already satisfied: progressbar2 in /usr/local/lib/python3.11/dist-packages (from obsplus) (4.5.0)\n",
            "Requirement already satisfied: pydantic<3.0,>=2.0 in /usr/local/lib/python3.11/dist-packages (from obsplus) (2.11.4)\n",
            "Requirement already satisfied: tables in /usr/local/lib/python3.11/dist-packages (from obsplus) (3.10.2)\n",
            "Requirement already satisfied: typing-extensions in /usr/local/lib/python3.11/dist-packages (from obsplus) (4.13.2)\n",
            "Requirement already satisfied: contourpy>=1.0.1 in /usr/local/lib/python3.11/dist-packages (from matplotlib>=3.3->obspy) (1.3.2)\n",
            "Requirement already satisfied: cycler>=0.10 in /usr/local/lib/python3.11/dist-packages (from matplotlib>=3.3->obspy) (0.12.1)\n",
            "Requirement already satisfied: fonttools>=4.22.0 in /usr/local/lib/python3.11/dist-packages (from matplotlib>=3.3->obspy) (4.58.0)\n",
            "Requirement already satisfied: kiwisolver>=1.3.1 in /usr/local/lib/python3.11/dist-packages (from matplotlib>=3.3->obspy) (1.4.8)\n",
            "Requirement already satisfied: packaging>=20.0 in /usr/local/lib/python3.11/dist-packages (from matplotlib>=3.3->obspy) (24.2)\n",
            "Requirement already satisfied: pillow>=8 in /usr/local/lib/python3.11/dist-packages (from matplotlib>=3.3->obspy) (11.2.1)\n",
            "Requirement already satisfied: pyparsing>=2.3.1 in /usr/local/lib/python3.11/dist-packages (from matplotlib>=3.3->obspy) (3.2.3)\n",
            "Requirement already satisfied: python-dateutil>=2.7 in /usr/local/lib/python3.11/dist-packages (from matplotlib>=3.3->obspy) (2.9.0.post0)\n",
            "Requirement already satisfied: pytz>=2020.1 in /usr/local/lib/python3.11/dist-packages (from pandas>=1.0->obsplus) (2025.2)\n",
            "Requirement already satisfied: tzdata>=2022.7 in /usr/local/lib/python3.11/dist-packages (from pandas>=1.0->obsplus) (2025.2)\n",
            "Requirement already satisfied: annotated-types>=0.6.0 in /usr/local/lib/python3.11/dist-packages (from pydantic<3.0,>=2.0->obsplus) (0.7.0)\n",
            "Requirement already satisfied: pydantic-core==2.33.2 in /usr/local/lib/python3.11/dist-packages (from pydantic<3.0,>=2.0->obsplus) (2.33.2)\n",
            "Requirement already satisfied: typing-inspection>=0.4.0 in /usr/local/lib/python3.11/dist-packages (from pydantic<3.0,>=2.0->obsplus) (0.4.1)\n",
            "Requirement already satisfied: greenlet!=0.4.17 in /usr/local/lib/python3.11/dist-packages (from sqlalchemy<2->obspy) (3.2.2)\n",
            "Requirement already satisfied: python-utils>=3.8.1 in /usr/local/lib/python3.11/dist-packages (from progressbar2->obsplus) (3.9.1)\n",
            "Requirement already satisfied: charset-normalizer<4,>=2 in /usr/local/lib/python3.11/dist-packages (from requests->obspy) (3.4.2)\n",
            "Requirement already satisfied: idna<4,>=2.5 in /usr/local/lib/python3.11/dist-packages (from requests->obspy) (3.10)\n",
            "Requirement already satisfied: urllib3<3,>=1.21.1 in /usr/local/lib/python3.11/dist-packages (from requests->obspy) (2.4.0)\n",
            "Requirement already satisfied: certifi>=2017.4.17 in /usr/local/lib/python3.11/dist-packages (from requests->obspy) (2025.4.26)\n",
            "Requirement already satisfied: numexpr>=2.6.2 in /usr/local/lib/python3.11/dist-packages (from tables->obsplus) (2.10.2)\n",
            "Requirement already satisfied: py-cpuinfo in /usr/local/lib/python3.11/dist-packages (from tables->obsplus) (9.0.0)\n",
            "Requirement already satisfied: blosc2>=2.3.0 in /usr/local/lib/python3.11/dist-packages (from tables->obsplus) (3.3.3)\n",
            "Requirement already satisfied: ndindex in /usr/local/lib/python3.11/dist-packages (from blosc2>=2.3.0->tables->obsplus) (1.10.0)\n",
            "Requirement already satisfied: msgpack in /usr/local/lib/python3.11/dist-packages (from blosc2>=2.3.0->tables->obsplus) (1.1.0)\n",
            "Requirement already satisfied: platformdirs in /usr/local/lib/python3.11/dist-packages (from blosc2>=2.3.0->tables->obsplus) (4.3.8)\n",
            "Requirement already satisfied: six>=1.5 in /usr/local/lib/python3.11/dist-packages (from python-dateutil>=2.7->matplotlib>=3.3->obspy) (1.17.0)\n",
            "Downloading obspy-1.4.2-cp311-cp311-manylinux_2_17_x86_64.manylinux2014_x86_64.whl (14.5 MB)\n",
            "\u001b[2K   \u001b[90m━━━━━━━━━━━━━━━━━━━━━━━━━━━━━━━━━━━━━━━━\u001b[0m \u001b[32m14.5/14.5 MB\u001b[0m \u001b[31m111.1 MB/s\u001b[0m eta \u001b[36m0:00:00\u001b[0m\n",
            "\u001b[?25hDownloading obsplus-0.3.1-py3-none-any.whl (344 kB)\n",
            "\u001b[2K   \u001b[90m━━━━━━━━━━━━━━━━━━━━━━━━━━━━━━━━━━━━━━━━\u001b[0m \u001b[32m344.3/344.3 kB\u001b[0m \u001b[31m29.9 MB/s\u001b[0m eta \u001b[36m0:00:00\u001b[0m\n",
            "\u001b[?25hDownloading numpy-1.26.4-cp311-cp311-manylinux_2_17_x86_64.manylinux2014_x86_64.whl (18.3 MB)\n",
            "\u001b[2K   \u001b[90m━━━━━━━━━━━━━━━━━━━━━━━━━━━━━━━━━━━━━━━━\u001b[0m \u001b[32m18.3/18.3 MB\u001b[0m \u001b[31m118.5 MB/s\u001b[0m eta \u001b[36m0:00:00\u001b[0m\n",
            "\u001b[?25hDownloading SQLAlchemy-1.4.54-cp311-cp311-manylinux_2_5_x86_64.manylinux1_x86_64.manylinux_2_17_x86_64.manylinux2014_x86_64.whl (1.6 MB)\n",
            "\u001b[2K   \u001b[90m━━━━━━━━━━━━━━━━━━━━━━━━━━━━━━━━━━━━━━━━\u001b[0m \u001b[32m1.6/1.6 MB\u001b[0m \u001b[31m87.3 MB/s\u001b[0m eta \u001b[36m0:00:00\u001b[0m\n",
            "\u001b[?25hInstalling collected packages: sqlalchemy, numpy, obspy, obsplus\n",
            "  Attempting uninstall: sqlalchemy\n",
            "    Found existing installation: SQLAlchemy 2.0.41\n",
            "    Uninstalling SQLAlchemy-2.0.41:\n",
            "      Successfully uninstalled SQLAlchemy-2.0.41\n",
            "  Attempting uninstall: numpy\n",
            "    Found existing installation: numpy 2.0.2\n",
            "    Uninstalling numpy-2.0.2:\n",
            "      Successfully uninstalled numpy-2.0.2\n",
            "\u001b[31mERROR: pip's dependency resolver does not currently take into account all the packages that are installed. This behaviour is the source of the following dependency conflicts.\n",
            "ipython-sql 0.5.0 requires sqlalchemy>=2.0, but you have sqlalchemy 1.4.54 which is incompatible.\n",
            "thinc 8.3.6 requires numpy<3.0.0,>=2.0.0, but you have numpy 1.26.4 which is incompatible.\u001b[0m\u001b[31m\n",
            "\u001b[0mSuccessfully installed numpy-1.26.4 obsplus-0.3.1 obspy-1.4.2 sqlalchemy-1.4.54\n"
          ]
        },
        {
          "output_type": "display_data",
          "data": {
            "application/vnd.colab-display-data+json": {
              "pip_warning": {
                "packages": [
                  "signal"
                ]
              },
              "id": "61c594a11fa845e19dbc1061311f8b2d"
            }
          },
          "metadata": {}
        }
      ],
      "source": [
        "import sys\n",
        "\n",
        "if 'google.colab' in sys.modules:\n",
        "    !git clone https://github.com/ecastillot/FieldCampII_2025.git\n",
        "    !pip install obspy obsplus"
      ]
    },
    {
      "cell_type": "markdown",
      "source": [
        "# Clone our repository"
      ],
      "metadata": {
        "id": "ywS4xKULqiM2"
      },
      "id": "ywS4xKULqiM2"
    },
    {
      "cell_type": "code",
      "source": [
        "! git clone https://github.com/ecastillot/FieldCampII_2025.git /content/FieldCampII_2025"
      ],
      "metadata": {
        "id": "QHXgmsoxqmaz",
        "outputId": "025ede94-d041-4f61-86cf-49d525b8776e",
        "colab": {
          "base_uri": "https://localhost:8080/"
        }
      },
      "id": "QHXgmsoxqmaz",
      "execution_count": 1,
      "outputs": [
        {
          "output_type": "stream",
          "name": "stdout",
          "text": [
            "fatal: destination path '/content/FieldCampII_2025' already exists and is not an empty directory.\n"
          ]
        }
      ]
    },
    {
      "cell_type": "code",
      "source": [
        "import sys\n",
        "lib = \"/content/FieldCampII_2025\"\n",
        "sys.path.append(lib)"
      ],
      "metadata": {
        "id": "n7-CSUIqqn6r"
      },
      "id": "n7-CSUIqqn6r",
      "execution_count": 2,
      "outputs": []
    },
    {
      "cell_type": "code",
      "execution_count": 4,
      "id": "d97bcdab",
      "metadata": {
        "id": "d97bcdab"
      },
      "outputs": [],
      "source": [
        "import os\n",
        "import pandas as pd\n",
        "import matplotlib.pyplot as plt\n",
        "from obspy import UTCDateTime\n",
        "from fc2.seismic import read_waveforms,read_stations,read_shots"
      ]
    },
    {
      "cell_type": "markdown",
      "id": "b951373a",
      "metadata": {
        "id": "b951373a"
      },
      "source": [
        "# Visualization"
      ]
    },
    {
      "cell_type": "markdown",
      "id": "9e240b51",
      "metadata": {
        "id": "9e240b51"
      },
      "source": [
        "We just cloned the data to understand the raw format"
      ]
    },
    {
      "cell_type": "code",
      "execution_count": 5,
      "id": "ed7c4a90",
      "metadata": {
        "id": "ed7c4a90",
        "outputId": "72848dcf-0f66-4674-9022-ceba3bf7b6fe",
        "colab": {
          "base_uri": "https://localhost:8080/"
        }
      },
      "outputs": [
        {
          "output_type": "stream",
          "name": "stdout",
          "text": [
            "shots_folder: /content/FieldCampII_2025/data/ROC_S_050725/SourceTesting\n",
            "waveforms_folder: /content/FieldCampII_2025/data/ROC_S_050725/PwaveSeismic\n",
            "stations_folder: /content/FieldCampII_2025/data/ROC_S_050725/PwaveSeismic/FDSN Information\n",
            "---------------------------\n",
            "Existing files in shots_folder: ['TB_INT00136.csv', 'Pretest', 'ConvertShotTime_May2025.m', 'Shot_Times_Clean.xlsx', 'AutoImport_CSV.m', 'DIGISOLO.LOG', 'TB_INT00142.csv']\n",
            "Existing files in waveforms_folder: ['453025770.0001.2025.05.07.15.43.00.000.Z.miniseed', '453025794.0001.2025.05.07.15.41.51.000.E.miniseed', '453026207.0001.2025.05.07.15.43.54.000.N.miniseed', '453025794.0001.2025.05.07.15.41.51.000.N.miniseed', '453024589.0001.2025.05.07.15.43.21.000.N.miniseed', '453026185.0001.2025.05.07.15.44.51.000.Z.miniseed', '453026138.0001.2025.05.07.15.44.54.000.Z.miniseed', '453024638.0001.2025.05.07.15.44.24.000.E.miniseed', '453026125.0001.2025.05.07.15.43.57.000.Z.miniseed', '453026165.0001.2025.05.07.15.44.42.000.N.miniseed', '453026218.0001.2025.05.07.15.43.21.000.E.miniseed', '453024341.0001.2025.05.07.15.43.48.000.N.miniseed', '453026190.0001.2025.05.07.15.44.27.000.E.miniseed', '453024311.0001.2025.05.07.15.43.48.000.Z.miniseed', '453026226.0001.2025.05.07.15.42.57.000.E.miniseed', '453026165.0001.2025.05.07.15.44.42.000.E.miniseed', '453026176.0001.2025.05.07.15.44.15.000.N.miniseed', '453024341.0001.2025.05.07.15.43.48.000.E.miniseed', '453024638.0001.2025.05.07.15.44.24.000.Z.miniseed', '453026190.0001.2025.05.07.15.44.27.000.N.miniseed', '453026107.0001.2025.05.07.15.43.32.000.Z.miniseed', '453024589.0001.2025.05.07.15.43.21.000.E.miniseed', '453026165.0001.2025.05.07.15.44.42.000.Z.miniseed', '453026205.0001.2025.05.07.15.44.21.000.N.miniseed', '453025161.0001.2025.05.07.15.44.24.000.Z.miniseed', '453026218.0001.2025.05.07.15.43.21.000.Z.miniseed', '453026207.0001.2025.05.07.15.43.54.000.Z.miniseed', '453026205.0001.2025.05.07.15.44.21.000.E.miniseed', '453026144.0001.2025.05.07.15.44.24.000.N.miniseed', '453024341.0001.2025.05.07.15.43.48.000.Z.miniseed', '453026138.0001.2025.05.07.15.44.54.000.E.miniseed', '453026132.0001.2025.05.07.15.44.02.000.E.miniseed', '453025954.0001.2025.05.07.15.44.51.000.N.miniseed', '453025931.0001.2025.05.07.15.45.11.000.N.miniseed', '453025931.0001.2025.05.07.15.45.11.000.Z.miniseed', '453025794.0001.2025.05.07.15.41.51.000.Z.miniseed', '453026176.0001.2025.05.07.15.44.15.000.Z.miniseed', '453026190.0001.2025.05.07.15.44.27.000.Z.miniseed', '453025161.0001.2025.05.07.15.44.24.000.N.miniseed', '453026144.0001.2025.05.07.15.44.24.000.Z.miniseed', '453026205.0001.2025.05.07.15.44.21.000.Z.miniseed', '453026226.0001.2025.05.07.15.42.57.000.N.miniseed', '453025770.0001.2025.05.07.15.43.00.000.N.miniseed', '453025161.0001.2025.05.07.15.44.24.000.E.miniseed', '453025931.0001.2025.05.07.15.45.11.000.E.miniseed', '453025954.0001.2025.05.07.15.44.51.000.E.miniseed', '453026138.0001.2025.05.07.15.44.54.000.N.miniseed', '453024131.0001.2025.05.07.15.42.27.000.Z.miniseed', '453024311.0001.2025.05.07.15.43.48.000.E.miniseed', '453026207.0001.2025.05.07.15.43.54.000.E.miniseed', '453025954.0001.2025.05.07.15.44.51.000.Z.miniseed', '453024311.0001.2025.05.07.15.43.48.000.N.miniseed', '453026218.0001.2025.05.07.15.43.21.000.N.miniseed', '453026226.0001.2025.05.07.15.42.57.000.Z.miniseed', '453026107.0001.2025.05.07.15.43.32.000.N.miniseed', '453024624.0001.2025.05.07.15.43.54.000.N.miniseed', '453024589.0001.2025.05.07.15.43.21.000.Z.miniseed', '453026144.0001.2025.05.07.15.44.24.000.E.miniseed', '453026125.0001.2025.05.07.15.43.57.000.N.miniseed', '453026185.0001.2025.05.07.15.44.51.000.N.miniseed', '453026185.0001.2025.05.07.15.44.51.000.E.miniseed', '453024131.0001.2025.05.07.15.42.27.000.E.miniseed', '453025770.0001.2025.05.07.15.43.00.000.E.miniseed', '453024624.0001.2025.05.07.15.43.54.000.Z.miniseed', 'FDSN Information', '453026132.0001.2025.05.07.15.44.02.000.Z.miniseed', '453024624.0001.2025.05.07.15.43.54.000.E.miniseed', '453026107.0001.2025.05.07.15.43.32.000.E.miniseed', '453024638.0001.2025.05.07.15.44.24.000.N.miniseed', '453026125.0001.2025.05.07.15.43.57.000.E.miniseed', '453026176.0001.2025.05.07.15.44.15.000.E.miniseed', '453024131.0001.2025.05.07.15.42.27.000.N.miniseed', '453026132.0001.2025.05.07.15.44.02.000.N.miniseed']\n",
            "Existing files in stations_folder: ['DT-Solo5Hz(HP305) Frequency Response(1).xls', 'FDSN_Information_453025161_1.xml', 'FDSN_Information_453024131_1.xml']\n"
          ]
        }
      ],
      "source": [
        "data_path = os.path.join(os.getcwd(),\"FieldCampII_2025\",\"data\",\"ROC_S_050725\")\n",
        "shots_folder = os.path.join(data_path,\"SourceTesting\")\n",
        "waveforms_folder = os.path.join(data_path,\"PwaveSeismic\")\n",
        "stations_folder = os.path.join(waveforms_folder,\"FDSN Information\")\n",
        "\n",
        "print(f\"shots_folder: {shots_folder}\")\n",
        "print(f\"waveforms_folder: {waveforms_folder}\")\n",
        "print(f\"stations_folder: {stations_folder}\")\n",
        "print(\"---------------------------\")\n",
        "print(f\"Existing files in shots_folder: {os.listdir(shots_folder)}\")\n",
        "print(f\"Existing files in waveforms_folder: {os.listdir(waveforms_folder)}\")\n",
        "print(f\"Existing files in stations_folder: {os.listdir(stations_folder)}\")"
      ]
    },
    {
      "cell_type": "markdown",
      "id": "626950db",
      "metadata": {
        "id": "626950db"
      },
      "source": [
        "## Shots"
      ]
    },
    {
      "cell_type": "markdown",
      "id": "91551ec0",
      "metadata": {
        "id": "91551ec0"
      },
      "source": [
        "We will use read_shots function to read the shots"
      ]
    },
    {
      "cell_type": "code",
      "execution_count": 6,
      "id": "e057a7fe",
      "metadata": {
        "id": "e057a7fe",
        "outputId": "2d0bb61a-6649-4cf8-ab8f-4225405fefd1",
        "colab": {
          "base_uri": "https://localhost:8080/"
        }
      },
      "outputs": [
        {
          "output_type": "stream",
          "name": "stdout",
          "text": [
            "Help on function read_shots in module fc2.seismic:\n",
            "\n",
            "read_shots(filepath, gps_start=None)\n",
            "    Parses a custom-formatted CSV file containing GPS time and location data for each shot.\n",
            "    \n",
            "    Parameters\n",
            "    ----------\n",
            "    filepath : str\n",
            "        Path to the input CSV file.\n",
            "    gps_start : datetime.datetime or None\n",
            "        The GPS epoch start time. If None, defaults to January 6, 1980.\n",
            "    \n",
            "    Returns\n",
            "    -------\n",
            "    pd.DataFrame\n",
            "        A DataFrame with columns: shot, year, month, day, hour, minute, second, latitude, longitude.\n",
            "\n"
          ]
        }
      ],
      "source": [
        "help(read_shots)"
      ]
    },
    {
      "cell_type": "code",
      "execution_count": 8,
      "id": "86010208",
      "metadata": {
        "id": "86010208",
        "outputId": "da334526-8aec-4015-91c3-2e4ca945fb7f",
        "colab": {
          "base_uri": "https://localhost:8080/",
          "height": 206
        }
      },
      "outputs": [
        {
          "output_type": "display_data",
          "data": {
            "text/plain": [
              "   shot  year  month  day  hour  minute  second  latitude  longitude\n",
              "0     1  2025      5    7    15      34   16.25     32.99      96.76\n",
              "1     2  2025      5    7    15      53   30.85     32.99      96.76\n",
              "2     3  2025      5    7    15      53   37.35     32.99      96.76\n",
              "3     4  2025      5    7    15      53   43.05     32.99      96.76\n",
              "4     5  2025      5    7    15      53   49.00     32.99      96.76"
            ],
            "text/html": [
              "\n",
              "  <div id=\"df-4e5e365d-b2d7-4a4e-958a-3ede3a4f2897\" class=\"colab-df-container\">\n",
              "    <div>\n",
              "<style scoped>\n",
              "    .dataframe tbody tr th:only-of-type {\n",
              "        vertical-align: middle;\n",
              "    }\n",
              "\n",
              "    .dataframe tbody tr th {\n",
              "        vertical-align: top;\n",
              "    }\n",
              "\n",
              "    .dataframe thead th {\n",
              "        text-align: right;\n",
              "    }\n",
              "</style>\n",
              "<table border=\"1\" class=\"dataframe\">\n",
              "  <thead>\n",
              "    <tr style=\"text-align: right;\">\n",
              "      <th></th>\n",
              "      <th>shot</th>\n",
              "      <th>year</th>\n",
              "      <th>month</th>\n",
              "      <th>day</th>\n",
              "      <th>hour</th>\n",
              "      <th>minute</th>\n",
              "      <th>second</th>\n",
              "      <th>latitude</th>\n",
              "      <th>longitude</th>\n",
              "    </tr>\n",
              "  </thead>\n",
              "  <tbody>\n",
              "    <tr>\n",
              "      <th>0</th>\n",
              "      <td>1</td>\n",
              "      <td>2025</td>\n",
              "      <td>5</td>\n",
              "      <td>7</td>\n",
              "      <td>15</td>\n",
              "      <td>34</td>\n",
              "      <td>16.25</td>\n",
              "      <td>32.99</td>\n",
              "      <td>96.76</td>\n",
              "    </tr>\n",
              "    <tr>\n",
              "      <th>1</th>\n",
              "      <td>2</td>\n",
              "      <td>2025</td>\n",
              "      <td>5</td>\n",
              "      <td>7</td>\n",
              "      <td>15</td>\n",
              "      <td>53</td>\n",
              "      <td>30.85</td>\n",
              "      <td>32.99</td>\n",
              "      <td>96.76</td>\n",
              "    </tr>\n",
              "    <tr>\n",
              "      <th>2</th>\n",
              "      <td>3</td>\n",
              "      <td>2025</td>\n",
              "      <td>5</td>\n",
              "      <td>7</td>\n",
              "      <td>15</td>\n",
              "      <td>53</td>\n",
              "      <td>37.35</td>\n",
              "      <td>32.99</td>\n",
              "      <td>96.76</td>\n",
              "    </tr>\n",
              "    <tr>\n",
              "      <th>3</th>\n",
              "      <td>4</td>\n",
              "      <td>2025</td>\n",
              "      <td>5</td>\n",
              "      <td>7</td>\n",
              "      <td>15</td>\n",
              "      <td>53</td>\n",
              "      <td>43.05</td>\n",
              "      <td>32.99</td>\n",
              "      <td>96.76</td>\n",
              "    </tr>\n",
              "    <tr>\n",
              "      <th>4</th>\n",
              "      <td>5</td>\n",
              "      <td>2025</td>\n",
              "      <td>5</td>\n",
              "      <td>7</td>\n",
              "      <td>15</td>\n",
              "      <td>53</td>\n",
              "      <td>49.00</td>\n",
              "      <td>32.99</td>\n",
              "      <td>96.76</td>\n",
              "    </tr>\n",
              "  </tbody>\n",
              "</table>\n",
              "</div>\n",
              "    <div class=\"colab-df-buttons\">\n",
              "\n",
              "  <div class=\"colab-df-container\">\n",
              "    <button class=\"colab-df-convert\" onclick=\"convertToInteractive('df-4e5e365d-b2d7-4a4e-958a-3ede3a4f2897')\"\n",
              "            title=\"Convert this dataframe to an interactive table.\"\n",
              "            style=\"display:none;\">\n",
              "\n",
              "  <svg xmlns=\"http://www.w3.org/2000/svg\" height=\"24px\" viewBox=\"0 -960 960 960\">\n",
              "    <path d=\"M120-120v-720h720v720H120Zm60-500h600v-160H180v160Zm220 220h160v-160H400v160Zm0 220h160v-160H400v160ZM180-400h160v-160H180v160Zm440 0h160v-160H620v160ZM180-180h160v-160H180v160Zm440 0h160v-160H620v160Z\"/>\n",
              "  </svg>\n",
              "    </button>\n",
              "\n",
              "  <style>\n",
              "    .colab-df-container {\n",
              "      display:flex;\n",
              "      gap: 12px;\n",
              "    }\n",
              "\n",
              "    .colab-df-convert {\n",
              "      background-color: #E8F0FE;\n",
              "      border: none;\n",
              "      border-radius: 50%;\n",
              "      cursor: pointer;\n",
              "      display: none;\n",
              "      fill: #1967D2;\n",
              "      height: 32px;\n",
              "      padding: 0 0 0 0;\n",
              "      width: 32px;\n",
              "    }\n",
              "\n",
              "    .colab-df-convert:hover {\n",
              "      background-color: #E2EBFA;\n",
              "      box-shadow: 0px 1px 2px rgba(60, 64, 67, 0.3), 0px 1px 3px 1px rgba(60, 64, 67, 0.15);\n",
              "      fill: #174EA6;\n",
              "    }\n",
              "\n",
              "    .colab-df-buttons div {\n",
              "      margin-bottom: 4px;\n",
              "    }\n",
              "\n",
              "    [theme=dark] .colab-df-convert {\n",
              "      background-color: #3B4455;\n",
              "      fill: #D2E3FC;\n",
              "    }\n",
              "\n",
              "    [theme=dark] .colab-df-convert:hover {\n",
              "      background-color: #434B5C;\n",
              "      box-shadow: 0px 1px 3px 1px rgba(0, 0, 0, 0.15);\n",
              "      filter: drop-shadow(0px 1px 2px rgba(0, 0, 0, 0.3));\n",
              "      fill: #FFFFFF;\n",
              "    }\n",
              "  </style>\n",
              "\n",
              "    <script>\n",
              "      const buttonEl =\n",
              "        document.querySelector('#df-4e5e365d-b2d7-4a4e-958a-3ede3a4f2897 button.colab-df-convert');\n",
              "      buttonEl.style.display =\n",
              "        google.colab.kernel.accessAllowed ? 'block' : 'none';\n",
              "\n",
              "      async function convertToInteractive(key) {\n",
              "        const element = document.querySelector('#df-4e5e365d-b2d7-4a4e-958a-3ede3a4f2897');\n",
              "        const dataTable =\n",
              "          await google.colab.kernel.invokeFunction('convertToInteractive',\n",
              "                                                    [key], {});\n",
              "        if (!dataTable) return;\n",
              "\n",
              "        const docLinkHtml = 'Like what you see? Visit the ' +\n",
              "          '<a target=\"_blank\" href=https://colab.research.google.com/notebooks/data_table.ipynb>data table notebook</a>'\n",
              "          + ' to learn more about interactive tables.';\n",
              "        element.innerHTML = '';\n",
              "        dataTable['output_type'] = 'display_data';\n",
              "        await google.colab.output.renderOutput(dataTable, element);\n",
              "        const docLink = document.createElement('div');\n",
              "        docLink.innerHTML = docLinkHtml;\n",
              "        element.appendChild(docLink);\n",
              "      }\n",
              "    </script>\n",
              "  </div>\n",
              "\n",
              "\n",
              "    <div id=\"df-1af613e3-0c85-4356-abb9-772c71f3b12e\">\n",
              "      <button class=\"colab-df-quickchart\" onclick=\"quickchart('df-1af613e3-0c85-4356-abb9-772c71f3b12e')\"\n",
              "                title=\"Suggest charts\"\n",
              "                style=\"display:none;\">\n",
              "\n",
              "<svg xmlns=\"http://www.w3.org/2000/svg\" height=\"24px\"viewBox=\"0 0 24 24\"\n",
              "     width=\"24px\">\n",
              "    <g>\n",
              "        <path d=\"M19 3H5c-1.1 0-2 .9-2 2v14c0 1.1.9 2 2 2h14c1.1 0 2-.9 2-2V5c0-1.1-.9-2-2-2zM9 17H7v-7h2v7zm4 0h-2V7h2v10zm4 0h-2v-4h2v4z\"/>\n",
              "    </g>\n",
              "</svg>\n",
              "      </button>\n",
              "\n",
              "<style>\n",
              "  .colab-df-quickchart {\n",
              "      --bg-color: #E8F0FE;\n",
              "      --fill-color: #1967D2;\n",
              "      --hover-bg-color: #E2EBFA;\n",
              "      --hover-fill-color: #174EA6;\n",
              "      --disabled-fill-color: #AAA;\n",
              "      --disabled-bg-color: #DDD;\n",
              "  }\n",
              "\n",
              "  [theme=dark] .colab-df-quickchart {\n",
              "      --bg-color: #3B4455;\n",
              "      --fill-color: #D2E3FC;\n",
              "      --hover-bg-color: #434B5C;\n",
              "      --hover-fill-color: #FFFFFF;\n",
              "      --disabled-bg-color: #3B4455;\n",
              "      --disabled-fill-color: #666;\n",
              "  }\n",
              "\n",
              "  .colab-df-quickchart {\n",
              "    background-color: var(--bg-color);\n",
              "    border: none;\n",
              "    border-radius: 50%;\n",
              "    cursor: pointer;\n",
              "    display: none;\n",
              "    fill: var(--fill-color);\n",
              "    height: 32px;\n",
              "    padding: 0;\n",
              "    width: 32px;\n",
              "  }\n",
              "\n",
              "  .colab-df-quickchart:hover {\n",
              "    background-color: var(--hover-bg-color);\n",
              "    box-shadow: 0 1px 2px rgba(60, 64, 67, 0.3), 0 1px 3px 1px rgba(60, 64, 67, 0.15);\n",
              "    fill: var(--button-hover-fill-color);\n",
              "  }\n",
              "\n",
              "  .colab-df-quickchart-complete:disabled,\n",
              "  .colab-df-quickchart-complete:disabled:hover {\n",
              "    background-color: var(--disabled-bg-color);\n",
              "    fill: var(--disabled-fill-color);\n",
              "    box-shadow: none;\n",
              "  }\n",
              "\n",
              "  .colab-df-spinner {\n",
              "    border: 2px solid var(--fill-color);\n",
              "    border-color: transparent;\n",
              "    border-bottom-color: var(--fill-color);\n",
              "    animation:\n",
              "      spin 1s steps(1) infinite;\n",
              "  }\n",
              "\n",
              "  @keyframes spin {\n",
              "    0% {\n",
              "      border-color: transparent;\n",
              "      border-bottom-color: var(--fill-color);\n",
              "      border-left-color: var(--fill-color);\n",
              "    }\n",
              "    20% {\n",
              "      border-color: transparent;\n",
              "      border-left-color: var(--fill-color);\n",
              "      border-top-color: var(--fill-color);\n",
              "    }\n",
              "    30% {\n",
              "      border-color: transparent;\n",
              "      border-left-color: var(--fill-color);\n",
              "      border-top-color: var(--fill-color);\n",
              "      border-right-color: var(--fill-color);\n",
              "    }\n",
              "    40% {\n",
              "      border-color: transparent;\n",
              "      border-right-color: var(--fill-color);\n",
              "      border-top-color: var(--fill-color);\n",
              "    }\n",
              "    60% {\n",
              "      border-color: transparent;\n",
              "      border-right-color: var(--fill-color);\n",
              "    }\n",
              "    80% {\n",
              "      border-color: transparent;\n",
              "      border-right-color: var(--fill-color);\n",
              "      border-bottom-color: var(--fill-color);\n",
              "    }\n",
              "    90% {\n",
              "      border-color: transparent;\n",
              "      border-bottom-color: var(--fill-color);\n",
              "    }\n",
              "  }\n",
              "</style>\n",
              "\n",
              "      <script>\n",
              "        async function quickchart(key) {\n",
              "          const quickchartButtonEl =\n",
              "            document.querySelector('#' + key + ' button');\n",
              "          quickchartButtonEl.disabled = true;  // To prevent multiple clicks.\n",
              "          quickchartButtonEl.classList.add('colab-df-spinner');\n",
              "          try {\n",
              "            const charts = await google.colab.kernel.invokeFunction(\n",
              "                'suggestCharts', [key], {});\n",
              "          } catch (error) {\n",
              "            console.error('Error during call to suggestCharts:', error);\n",
              "          }\n",
              "          quickchartButtonEl.classList.remove('colab-df-spinner');\n",
              "          quickchartButtonEl.classList.add('colab-df-quickchart-complete');\n",
              "        }\n",
              "        (() => {\n",
              "          let quickchartButtonEl =\n",
              "            document.querySelector('#df-1af613e3-0c85-4356-abb9-772c71f3b12e button');\n",
              "          quickchartButtonEl.style.display =\n",
              "            google.colab.kernel.accessAllowed ? 'block' : 'none';\n",
              "        })();\n",
              "      </script>\n",
              "    </div>\n",
              "\n",
              "    </div>\n",
              "  </div>\n"
            ],
            "application/vnd.google.colaboratory.intrinsic+json": {
              "type": "dataframe",
              "summary": "{\n  \"name\": \"display(shot_df\",\n  \"rows\": 5,\n  \"fields\": [\n    {\n      \"column\": \"shot\",\n      \"properties\": {\n        \"dtype\": \"number\",\n        \"std\": 1,\n        \"min\": 1,\n        \"max\": 5,\n        \"num_unique_values\": 5,\n        \"samples\": [\n          2,\n          5,\n          3\n        ],\n        \"semantic_type\": \"\",\n        \"description\": \"\"\n      }\n    },\n    {\n      \"column\": \"year\",\n      \"properties\": {\n        \"dtype\": \"number\",\n        \"std\": 0,\n        \"min\": 2025,\n        \"max\": 2025,\n        \"num_unique_values\": 1,\n        \"samples\": [\n          2025\n        ],\n        \"semantic_type\": \"\",\n        \"description\": \"\"\n      }\n    },\n    {\n      \"column\": \"month\",\n      \"properties\": {\n        \"dtype\": \"number\",\n        \"std\": 0,\n        \"min\": 5,\n        \"max\": 5,\n        \"num_unique_values\": 1,\n        \"samples\": [\n          5\n        ],\n        \"semantic_type\": \"\",\n        \"description\": \"\"\n      }\n    },\n    {\n      \"column\": \"day\",\n      \"properties\": {\n        \"dtype\": \"number\",\n        \"std\": 0,\n        \"min\": 7,\n        \"max\": 7,\n        \"num_unique_values\": 1,\n        \"samples\": [\n          7\n        ],\n        \"semantic_type\": \"\",\n        \"description\": \"\"\n      }\n    },\n    {\n      \"column\": \"hour\",\n      \"properties\": {\n        \"dtype\": \"number\",\n        \"std\": 0,\n        \"min\": 15,\n        \"max\": 15,\n        \"num_unique_values\": 1,\n        \"samples\": [\n          15\n        ],\n        \"semantic_type\": \"\",\n        \"description\": \"\"\n      }\n    },\n    {\n      \"column\": \"minute\",\n      \"properties\": {\n        \"dtype\": \"number\",\n        \"std\": 8,\n        \"min\": 34,\n        \"max\": 53,\n        \"num_unique_values\": 2,\n        \"samples\": [\n          53\n        ],\n        \"semantic_type\": \"\",\n        \"description\": \"\"\n      }\n    },\n    {\n      \"column\": \"second\",\n      \"properties\": {\n        \"dtype\": \"number\",\n        \"std\": 12.596229594604887,\n        \"min\": 16.25,\n        \"max\": 49.0,\n        \"num_unique_values\": 5,\n        \"samples\": [\n          30.85\n        ],\n        \"semantic_type\": \"\",\n        \"description\": \"\"\n      }\n    },\n    {\n      \"column\": \"latitude\",\n      \"properties\": {\n        \"dtype\": \"number\",\n        \"std\": 0.0,\n        \"min\": 32.99,\n        \"max\": 32.99,\n        \"num_unique_values\": 1,\n        \"samples\": [\n          32.99\n        ],\n        \"semantic_type\": \"\",\n        \"description\": \"\"\n      }\n    },\n    {\n      \"column\": \"longitude\",\n      \"properties\": {\n        \"dtype\": \"number\",\n        \"std\": 0.0,\n        \"min\": 96.76,\n        \"max\": 96.76,\n        \"num_unique_values\": 1,\n        \"samples\": [\n          96.76\n        ],\n        \"semantic_type\": \"\",\n        \"description\": \"\"\n      }\n    }\n  ]\n}"
            }
          },
          "metadata": {}
        }
      ],
      "source": [
        "shot_name = \"TB_INT00142.csv\"\n",
        "shot_path = os.path.join(shots_folder,shot_name)\n",
        "shot_df = read_shots(shot_path)\n",
        "display(shot_df.head())"
      ]
    },
    {
      "cell_type": "markdown",
      "id": "8e5dffa7",
      "metadata": {
        "id": "8e5dffa7"
      },
      "source": [
        "## Stations"
      ]
    },
    {
      "cell_type": "code",
      "execution_count": 9,
      "id": "3d8dccec",
      "metadata": {
        "id": "3d8dccec",
        "outputId": "36326335-486c-4519-df74-4b259331203c",
        "colab": {
          "base_uri": "https://localhost:8080/"
        }
      },
      "outputs": [
        {
          "output_type": "stream",
          "name": "stdout",
          "text": [
            "Help on function read_stations in module fc2.seismic:\n",
            "\n",
            "read_stations(folder_path: str)\n",
            "    Reads all XML files in a specified folder and concatenates them into a single DataFrame.\n",
            "    Parameters\n",
            "    ----------\n",
            "    folder_path : str\n",
            "        Path to the folder containing XML files.\n",
            "    Returns\n",
            "    -------\n",
            "    pd.DataFrame\n",
            "        A DataFrame containing the concatenated data from all XML files.\n",
            "\n"
          ]
        }
      ],
      "source": [
        "help(read_stations)"
      ]
    },
    {
      "cell_type": "code",
      "execution_count": 10,
      "id": "6326bd21",
      "metadata": {
        "id": "6326bd21",
        "outputId": "4b9cc1bc-2944-45d8-c817-dcd86d5050c4",
        "colab": {
          "base_uri": "https://localhost:8080/",
          "height": 112
        }
      },
      "outputs": [
        {
          "output_type": "display_data",
          "data": {
            "text/plain": [
              "  network station location channel          seed_id   latitude  longitude  \\\n",
              "0      SS   25161       SW     GPZ  SS.25161.SW.GPZ  32.986930 -96.758201   \n",
              "1      SS   24131       SW     GPZ  SS.24131.SW.GPZ  32.986924 -96.758282   \n",
              "\n",
              "    elevation  depth  azimuth   dip  sample_rate          start_date  \\\n",
              "0  212.600006    0.0      0.0  90.0       1000.0 2025-05-07 15:44:24   \n",
              "1  212.100000    0.0      0.0  90.0       1000.0 2025-05-07 15:42:27   \n",
              "\n",
              "             end_date  \n",
              "0 2025-05-07 16:19:02  \n",
              "1 2025-05-07 16:16:20  "
            ],
            "text/html": [
              "\n",
              "  <div id=\"df-5cb8ffc5-d7d7-4e5f-be40-4d0924d8cd14\" class=\"colab-df-container\">\n",
              "    <div>\n",
              "<style scoped>\n",
              "    .dataframe tbody tr th:only-of-type {\n",
              "        vertical-align: middle;\n",
              "    }\n",
              "\n",
              "    .dataframe tbody tr th {\n",
              "        vertical-align: top;\n",
              "    }\n",
              "\n",
              "    .dataframe thead th {\n",
              "        text-align: right;\n",
              "    }\n",
              "</style>\n",
              "<table border=\"1\" class=\"dataframe\">\n",
              "  <thead>\n",
              "    <tr style=\"text-align: right;\">\n",
              "      <th></th>\n",
              "      <th>network</th>\n",
              "      <th>station</th>\n",
              "      <th>location</th>\n",
              "      <th>channel</th>\n",
              "      <th>seed_id</th>\n",
              "      <th>latitude</th>\n",
              "      <th>longitude</th>\n",
              "      <th>elevation</th>\n",
              "      <th>depth</th>\n",
              "      <th>azimuth</th>\n",
              "      <th>dip</th>\n",
              "      <th>sample_rate</th>\n",
              "      <th>start_date</th>\n",
              "      <th>end_date</th>\n",
              "    </tr>\n",
              "  </thead>\n",
              "  <tbody>\n",
              "    <tr>\n",
              "      <th>0</th>\n",
              "      <td>SS</td>\n",
              "      <td>25161</td>\n",
              "      <td>SW</td>\n",
              "      <td>GPZ</td>\n",
              "      <td>SS.25161.SW.GPZ</td>\n",
              "      <td>32.986930</td>\n",
              "      <td>-96.758201</td>\n",
              "      <td>212.600006</td>\n",
              "      <td>0.0</td>\n",
              "      <td>0.0</td>\n",
              "      <td>90.0</td>\n",
              "      <td>1000.0</td>\n",
              "      <td>2025-05-07 15:44:24</td>\n",
              "      <td>2025-05-07 16:19:02</td>\n",
              "    </tr>\n",
              "    <tr>\n",
              "      <th>1</th>\n",
              "      <td>SS</td>\n",
              "      <td>24131</td>\n",
              "      <td>SW</td>\n",
              "      <td>GPZ</td>\n",
              "      <td>SS.24131.SW.GPZ</td>\n",
              "      <td>32.986924</td>\n",
              "      <td>-96.758282</td>\n",
              "      <td>212.100000</td>\n",
              "      <td>0.0</td>\n",
              "      <td>0.0</td>\n",
              "      <td>90.0</td>\n",
              "      <td>1000.0</td>\n",
              "      <td>2025-05-07 15:42:27</td>\n",
              "      <td>2025-05-07 16:16:20</td>\n",
              "    </tr>\n",
              "  </tbody>\n",
              "</table>\n",
              "</div>\n",
              "    <div class=\"colab-df-buttons\">\n",
              "\n",
              "  <div class=\"colab-df-container\">\n",
              "    <button class=\"colab-df-convert\" onclick=\"convertToInteractive('df-5cb8ffc5-d7d7-4e5f-be40-4d0924d8cd14')\"\n",
              "            title=\"Convert this dataframe to an interactive table.\"\n",
              "            style=\"display:none;\">\n",
              "\n",
              "  <svg xmlns=\"http://www.w3.org/2000/svg\" height=\"24px\" viewBox=\"0 -960 960 960\">\n",
              "    <path d=\"M120-120v-720h720v720H120Zm60-500h600v-160H180v160Zm220 220h160v-160H400v160Zm0 220h160v-160H400v160ZM180-400h160v-160H180v160Zm440 0h160v-160H620v160ZM180-180h160v-160H180v160Zm440 0h160v-160H620v160Z\"/>\n",
              "  </svg>\n",
              "    </button>\n",
              "\n",
              "  <style>\n",
              "    .colab-df-container {\n",
              "      display:flex;\n",
              "      gap: 12px;\n",
              "    }\n",
              "\n",
              "    .colab-df-convert {\n",
              "      background-color: #E8F0FE;\n",
              "      border: none;\n",
              "      border-radius: 50%;\n",
              "      cursor: pointer;\n",
              "      display: none;\n",
              "      fill: #1967D2;\n",
              "      height: 32px;\n",
              "      padding: 0 0 0 0;\n",
              "      width: 32px;\n",
              "    }\n",
              "\n",
              "    .colab-df-convert:hover {\n",
              "      background-color: #E2EBFA;\n",
              "      box-shadow: 0px 1px 2px rgba(60, 64, 67, 0.3), 0px 1px 3px 1px rgba(60, 64, 67, 0.15);\n",
              "      fill: #174EA6;\n",
              "    }\n",
              "\n",
              "    .colab-df-buttons div {\n",
              "      margin-bottom: 4px;\n",
              "    }\n",
              "\n",
              "    [theme=dark] .colab-df-convert {\n",
              "      background-color: #3B4455;\n",
              "      fill: #D2E3FC;\n",
              "    }\n",
              "\n",
              "    [theme=dark] .colab-df-convert:hover {\n",
              "      background-color: #434B5C;\n",
              "      box-shadow: 0px 1px 3px 1px rgba(0, 0, 0, 0.15);\n",
              "      filter: drop-shadow(0px 1px 2px rgba(0, 0, 0, 0.3));\n",
              "      fill: #FFFFFF;\n",
              "    }\n",
              "  </style>\n",
              "\n",
              "    <script>\n",
              "      const buttonEl =\n",
              "        document.querySelector('#df-5cb8ffc5-d7d7-4e5f-be40-4d0924d8cd14 button.colab-df-convert');\n",
              "      buttonEl.style.display =\n",
              "        google.colab.kernel.accessAllowed ? 'block' : 'none';\n",
              "\n",
              "      async function convertToInteractive(key) {\n",
              "        const element = document.querySelector('#df-5cb8ffc5-d7d7-4e5f-be40-4d0924d8cd14');\n",
              "        const dataTable =\n",
              "          await google.colab.kernel.invokeFunction('convertToInteractive',\n",
              "                                                    [key], {});\n",
              "        if (!dataTable) return;\n",
              "\n",
              "        const docLinkHtml = 'Like what you see? Visit the ' +\n",
              "          '<a target=\"_blank\" href=https://colab.research.google.com/notebooks/data_table.ipynb>data table notebook</a>'\n",
              "          + ' to learn more about interactive tables.';\n",
              "        element.innerHTML = '';\n",
              "        dataTable['output_type'] = 'display_data';\n",
              "        await google.colab.output.renderOutput(dataTable, element);\n",
              "        const docLink = document.createElement('div');\n",
              "        docLink.innerHTML = docLinkHtml;\n",
              "        element.appendChild(docLink);\n",
              "      }\n",
              "    </script>\n",
              "  </div>\n",
              "\n",
              "\n",
              "    <div id=\"df-c43c8bf6-74ec-4f9c-8cbc-e1d9fe454df9\">\n",
              "      <button class=\"colab-df-quickchart\" onclick=\"quickchart('df-c43c8bf6-74ec-4f9c-8cbc-e1d9fe454df9')\"\n",
              "                title=\"Suggest charts\"\n",
              "                style=\"display:none;\">\n",
              "\n",
              "<svg xmlns=\"http://www.w3.org/2000/svg\" height=\"24px\"viewBox=\"0 0 24 24\"\n",
              "     width=\"24px\">\n",
              "    <g>\n",
              "        <path d=\"M19 3H5c-1.1 0-2 .9-2 2v14c0 1.1.9 2 2 2h14c1.1 0 2-.9 2-2V5c0-1.1-.9-2-2-2zM9 17H7v-7h2v7zm4 0h-2V7h2v10zm4 0h-2v-4h2v4z\"/>\n",
              "    </g>\n",
              "</svg>\n",
              "      </button>\n",
              "\n",
              "<style>\n",
              "  .colab-df-quickchart {\n",
              "      --bg-color: #E8F0FE;\n",
              "      --fill-color: #1967D2;\n",
              "      --hover-bg-color: #E2EBFA;\n",
              "      --hover-fill-color: #174EA6;\n",
              "      --disabled-fill-color: #AAA;\n",
              "      --disabled-bg-color: #DDD;\n",
              "  }\n",
              "\n",
              "  [theme=dark] .colab-df-quickchart {\n",
              "      --bg-color: #3B4455;\n",
              "      --fill-color: #D2E3FC;\n",
              "      --hover-bg-color: #434B5C;\n",
              "      --hover-fill-color: #FFFFFF;\n",
              "      --disabled-bg-color: #3B4455;\n",
              "      --disabled-fill-color: #666;\n",
              "  }\n",
              "\n",
              "  .colab-df-quickchart {\n",
              "    background-color: var(--bg-color);\n",
              "    border: none;\n",
              "    border-radius: 50%;\n",
              "    cursor: pointer;\n",
              "    display: none;\n",
              "    fill: var(--fill-color);\n",
              "    height: 32px;\n",
              "    padding: 0;\n",
              "    width: 32px;\n",
              "  }\n",
              "\n",
              "  .colab-df-quickchart:hover {\n",
              "    background-color: var(--hover-bg-color);\n",
              "    box-shadow: 0 1px 2px rgba(60, 64, 67, 0.3), 0 1px 3px 1px rgba(60, 64, 67, 0.15);\n",
              "    fill: var(--button-hover-fill-color);\n",
              "  }\n",
              "\n",
              "  .colab-df-quickchart-complete:disabled,\n",
              "  .colab-df-quickchart-complete:disabled:hover {\n",
              "    background-color: var(--disabled-bg-color);\n",
              "    fill: var(--disabled-fill-color);\n",
              "    box-shadow: none;\n",
              "  }\n",
              "\n",
              "  .colab-df-spinner {\n",
              "    border: 2px solid var(--fill-color);\n",
              "    border-color: transparent;\n",
              "    border-bottom-color: var(--fill-color);\n",
              "    animation:\n",
              "      spin 1s steps(1) infinite;\n",
              "  }\n",
              "\n",
              "  @keyframes spin {\n",
              "    0% {\n",
              "      border-color: transparent;\n",
              "      border-bottom-color: var(--fill-color);\n",
              "      border-left-color: var(--fill-color);\n",
              "    }\n",
              "    20% {\n",
              "      border-color: transparent;\n",
              "      border-left-color: var(--fill-color);\n",
              "      border-top-color: var(--fill-color);\n",
              "    }\n",
              "    30% {\n",
              "      border-color: transparent;\n",
              "      border-left-color: var(--fill-color);\n",
              "      border-top-color: var(--fill-color);\n",
              "      border-right-color: var(--fill-color);\n",
              "    }\n",
              "    40% {\n",
              "      border-color: transparent;\n",
              "      border-right-color: var(--fill-color);\n",
              "      border-top-color: var(--fill-color);\n",
              "    }\n",
              "    60% {\n",
              "      border-color: transparent;\n",
              "      border-right-color: var(--fill-color);\n",
              "    }\n",
              "    80% {\n",
              "      border-color: transparent;\n",
              "      border-right-color: var(--fill-color);\n",
              "      border-bottom-color: var(--fill-color);\n",
              "    }\n",
              "    90% {\n",
              "      border-color: transparent;\n",
              "      border-bottom-color: var(--fill-color);\n",
              "    }\n",
              "  }\n",
              "</style>\n",
              "\n",
              "      <script>\n",
              "        async function quickchart(key) {\n",
              "          const quickchartButtonEl =\n",
              "            document.querySelector('#' + key + ' button');\n",
              "          quickchartButtonEl.disabled = true;  // To prevent multiple clicks.\n",
              "          quickchartButtonEl.classList.add('colab-df-spinner');\n",
              "          try {\n",
              "            const charts = await google.colab.kernel.invokeFunction(\n",
              "                'suggestCharts', [key], {});\n",
              "          } catch (error) {\n",
              "            console.error('Error during call to suggestCharts:', error);\n",
              "          }\n",
              "          quickchartButtonEl.classList.remove('colab-df-spinner');\n",
              "          quickchartButtonEl.classList.add('colab-df-quickchart-complete');\n",
              "        }\n",
              "        (() => {\n",
              "          let quickchartButtonEl =\n",
              "            document.querySelector('#df-c43c8bf6-74ec-4f9c-8cbc-e1d9fe454df9 button');\n",
              "          quickchartButtonEl.style.display =\n",
              "            google.colab.kernel.accessAllowed ? 'block' : 'none';\n",
              "        })();\n",
              "      </script>\n",
              "    </div>\n",
              "\n",
              "    </div>\n",
              "  </div>\n"
            ],
            "application/vnd.google.colaboratory.intrinsic+json": {
              "type": "dataframe",
              "summary": "{\n  \"name\": \"display(stations_df\",\n  \"rows\": 2,\n  \"fields\": [\n    {\n      \"column\": \"network\",\n      \"properties\": {\n        \"dtype\": \"string\",\n        \"num_unique_values\": 1,\n        \"samples\": [\n          \"SS\"\n        ],\n        \"semantic_type\": \"\",\n        \"description\": \"\"\n      }\n    },\n    {\n      \"column\": \"station\",\n      \"properties\": {\n        \"dtype\": \"string\",\n        \"num_unique_values\": 2,\n        \"samples\": [\n          \"24131\"\n        ],\n        \"semantic_type\": \"\",\n        \"description\": \"\"\n      }\n    },\n    {\n      \"column\": \"location\",\n      \"properties\": {\n        \"dtype\": \"string\",\n        \"num_unique_values\": 1,\n        \"samples\": [\n          \"SW\"\n        ],\n        \"semantic_type\": \"\",\n        \"description\": \"\"\n      }\n    },\n    {\n      \"column\": \"channel\",\n      \"properties\": {\n        \"dtype\": \"string\",\n        \"num_unique_values\": 1,\n        \"samples\": [\n          \"GPZ\"\n        ],\n        \"semantic_type\": \"\",\n        \"description\": \"\"\n      }\n    },\n    {\n      \"column\": \"seed_id\",\n      \"properties\": {\n        \"dtype\": \"string\",\n        \"num_unique_values\": 2,\n        \"samples\": [\n          \"SS.24131.SW.GPZ\"\n        ],\n        \"semantic_type\": \"\",\n        \"description\": \"\"\n      }\n    },\n    {\n      \"column\": \"latitude\",\n      \"properties\": {\n        \"dtype\": \"number\",\n        \"std\": 4.2426406864562385e-06,\n        \"min\": 32.986924,\n        \"max\": 32.98693,\n        \"num_unique_values\": 2,\n        \"samples\": [\n          32.986924\n        ],\n        \"semantic_type\": \"\",\n        \"description\": \"\"\n      }\n    },\n    {\n      \"column\": \"longitude\",\n      \"properties\": {\n        \"dtype\": \"number\",\n        \"std\": 5.7275649292280704e-05,\n        \"min\": -96.75828200000001,\n        \"max\": -96.75820099999999,\n        \"num_unique_values\": 2,\n        \"samples\": [\n          -96.75828200000001\n        ],\n        \"semantic_type\": \"\",\n        \"description\": \"\"\n      }\n    },\n    {\n      \"column\": \"elevation\",\n      \"properties\": {\n        \"dtype\": \"number\",\n        \"std\": 0.35355763323397027,\n        \"min\": 212.1,\n        \"max\": 212.600006,\n        \"num_unique_values\": 2,\n        \"samples\": [\n          212.1\n        ],\n        \"semantic_type\": \"\",\n        \"description\": \"\"\n      }\n    },\n    {\n      \"column\": \"depth\",\n      \"properties\": {\n        \"dtype\": \"number\",\n        \"std\": 0.0,\n        \"min\": 0.0,\n        \"max\": 0.0,\n        \"num_unique_values\": 1,\n        \"samples\": [\n          0.0\n        ],\n        \"semantic_type\": \"\",\n        \"description\": \"\"\n      }\n    },\n    {\n      \"column\": \"azimuth\",\n      \"properties\": {\n        \"dtype\": \"number\",\n        \"std\": 0.0,\n        \"min\": 0.0,\n        \"max\": 0.0,\n        \"num_unique_values\": 1,\n        \"samples\": [\n          0.0\n        ],\n        \"semantic_type\": \"\",\n        \"description\": \"\"\n      }\n    },\n    {\n      \"column\": \"dip\",\n      \"properties\": {\n        \"dtype\": \"number\",\n        \"std\": 0.0,\n        \"min\": 90.0,\n        \"max\": 90.0,\n        \"num_unique_values\": 1,\n        \"samples\": [\n          90.0\n        ],\n        \"semantic_type\": \"\",\n        \"description\": \"\"\n      }\n    },\n    {\n      \"column\": \"sample_rate\",\n      \"properties\": {\n        \"dtype\": \"number\",\n        \"std\": 0.0,\n        \"min\": 1000.0,\n        \"max\": 1000.0,\n        \"num_unique_values\": 1,\n        \"samples\": [\n          1000.0\n        ],\n        \"semantic_type\": \"\",\n        \"description\": \"\"\n      }\n    },\n    {\n      \"column\": \"start_date\",\n      \"properties\": {\n        \"dtype\": \"date\",\n        \"min\": \"2025-05-07 15:42:27\",\n        \"max\": \"2025-05-07 15:44:24\",\n        \"num_unique_values\": 2,\n        \"samples\": [\n          \"2025-05-07 15:42:27\"\n        ],\n        \"semantic_type\": \"\",\n        \"description\": \"\"\n      }\n    },\n    {\n      \"column\": \"end_date\",\n      \"properties\": {\n        \"dtype\": \"date\",\n        \"min\": \"2025-05-07 16:16:20\",\n        \"max\": \"2025-05-07 16:19:02\",\n        \"num_unique_values\": 2,\n        \"samples\": [\n          \"2025-05-07 16:16:20\"\n        ],\n        \"semantic_type\": \"\",\n        \"description\": \"\"\n      }\n    }\n  ]\n}"
            }
          },
          "metadata": {}
        }
      ],
      "source": [
        "stations_df = read_stations(stations_folder)\n",
        "display(stations_df.head())"
      ]
    },
    {
      "cell_type": "markdown",
      "id": "dfcae3f5",
      "metadata": {
        "id": "dfcae3f5"
      },
      "source": [
        "## Waveforms"
      ]
    },
    {
      "cell_type": "code",
      "execution_count": 11,
      "id": "f7f504f0",
      "metadata": {
        "id": "f7f504f0",
        "outputId": "75addf2e-8837-4171-e1a6-b516c9057495",
        "colab": {
          "base_uri": "https://localhost:8080/"
        }
      },
      "outputs": [
        {
          "output_type": "stream",
          "name": "stdout",
          "text": [
            "Help on function read_waveforms in module fc2.seismic:\n",
            "\n",
            "read_waveforms(folder_path: str, station: str = '*', component: str = '*', starttime: obspy.core.utcdatetime.UTCDateTime = None, endtime: obspy.core.utcdatetime.UTCDateTime = None) -> obspy.core.stream.Stream\n",
            "    Reads MiniSEED files using station/component wildcards and filters by time range.\n",
            "    \n",
            "    Parameters:\n",
            "    - folder_path (str): Directory with MiniSEED files.\n",
            "    - station (str): Wildcard for station code (e.g., \"4530*\", \"*\" for all).\n",
            "    - component (str): Wildcard for component (e.g., \"E\", \"Z\", \"*\").\n",
            "    - starttime (UTCDateTime, optional): Start of time window to include.\n",
            "    - endtime (UTCDateTime, optional): End of time window to include.\n",
            "    \n",
            "    Returns:\n",
            "    - stream (obspy.Stream): Combined Stream object with filtered traces.\n",
            "\n"
          ]
        }
      ],
      "source": [
        "help(read_waveforms)"
      ]
    },
    {
      "cell_type": "code",
      "execution_count": 12,
      "id": "91104f87",
      "metadata": {
        "id": "91104f87",
        "outputId": "cb15786d-cb7c-480e-a142-3c4aa1b743f1",
        "colab": {
          "base_uri": "https://localhost:8080/"
        }
      },
      "outputs": [
        {
          "output_type": "execute_result",
          "data": {
            "text/plain": [
              "72 Trace(s) in Stream:\n",
              "\n",
              "SS.24131.SW.GPE | 2025-05-07T15:42:27.000000Z - 2025-05-07T16:16:20.000000Z | 1000.0 Hz, 2033001 samples\n",
              "...\n",
              "(70 other traces)\n",
              "...\n",
              "SS.26226.SW.GPZ | 2025-05-07T15:42:57.000000Z - 2025-05-07T16:17:37.000000Z | 1000.0 Hz, 2080001 samples\n",
              "\n",
              "[Use \"print(Stream.__str__(extended=True))\" to print all Traces]"
            ]
          },
          "metadata": {},
          "execution_count": 12
        }
      ],
      "source": [
        "st = read_waveforms(waveforms_folder)\n",
        "st"
      ]
    },
    {
      "cell_type": "markdown",
      "id": "2c026d1c",
      "metadata": {
        "id": "2c026d1c"
      },
      "source": [
        "Feel free to do a more specific query"
      ]
    },
    {
      "cell_type": "code",
      "execution_count": 13,
      "id": "82339dec",
      "metadata": {
        "id": "82339dec",
        "outputId": "81878a91-5560-4c39-c32c-4bdb52f90a17",
        "colab": {
          "base_uri": "https://localhost:8080/"
        }
      },
      "outputs": [
        {
          "output_type": "execute_result",
          "data": {
            "text/plain": [
              "2 Trace(s) in Stream:\n",
              "SS.24311.SW.GPZ | 2025-05-07T15:43:48.000000Z - 2025-05-07T16:17:16.000000Z | 1000.0 Hz, 2008001 samples\n",
              "SS.24341.SW.GPZ | 2025-05-07T15:43:48.000000Z - 2025-05-07T16:18:46.000000Z | 1000.0 Hz, 2098001 samples"
            ]
          },
          "metadata": {},
          "execution_count": 13
        }
      ],
      "source": [
        "st = read_waveforms(waveforms_folder,station=\"*243*\",component=\"Z\")\n",
        "st"
      ]
    },
    {
      "cell_type": "code",
      "execution_count": 14,
      "id": "21799e2a",
      "metadata": {
        "id": "21799e2a",
        "outputId": "9e8c77ee-dc24-4a49-96a6-2b4e0d0b7dde",
        "colab": {
          "base_uri": "https://localhost:8080/",
          "height": 991
        }
      },
      "outputs": [
        {
          "output_type": "display_data",
          "data": {
            "text/plain": [
              "<Figure size 800x500 with 2 Axes>"
            ],
            "image/png": "[encoded data removed]"
          },
          "metadata": {}
        },
        {
          "output_type": "execute_result",
          "data": {
            "text/plain": [
              "<Figure size 800x500 with 2 Axes>"
            ],
            "image/png": "[encoded data removed]"
          },
          "metadata": {},
          "execution_count": 14
        }
      ],
      "source": [
        "st.plot(method=\"full\")"
      ]
    },
    {
      "cell_type": "markdown",
      "id": "9e31e8d4",
      "metadata": {
        "id": "9e31e8d4"
      },
      "source": []
    }
  ],
  "metadata": {
    "kernelspec": {
      "display_name": "utd",
      "language": "python",
      "name": "python3"
    },
    "language_info": {
      "codemirror_mode": {
        "name": "ipython",
        "version": 3
      },
      "file_extension": ".py",
      "mimetype": "text/x-python",
      "name": "python",
      "nbconvert_exporter": "python",
      "pygments_lexer": "ipython3",
      "version": "3.11.11"
    },
    "colab": {
      "provenance": []
    }
  },
  "nbformat": 4,
  "nbformat_minor": 5
}