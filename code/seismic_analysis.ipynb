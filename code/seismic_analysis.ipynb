{
 "cells": [
  {
   "cell_type": "markdown",
   "id": "dabf969b",
   "metadata": {},
   "source": [
    "# Seismic \n",
    "**Some Basics**\n",
    "\n",
    "\n",
    "Author: Emmanuel Castillo\n",
    "\n",
    "emmanuel.castillotaborda@utdallas.edu"
   ]
  },
  {
   "cell_type": "code",
   "execution_count": null,
   "id": "db0659e8",
   "metadata": {},
   "outputs": [],
   "source": [
    "import sys\n",
    "\n",
    "if 'google.colab' in sys.modules:\n",
    "    !git clone https://github.com/ecastillot/FieldCampII_2025.git\n",
    "    !pip install obspy obsplus"
   ]
  },
  {
   "cell_type": "code",
   "execution_count": null,
   "id": "d97bcdab",
   "metadata": {},
   "outputs": [],
   "source": [
    "import os\n",
    "import pandas as pd\n",
    "import matplotlib.pyplot as plt\n",
    "from obspy import UTCDateTime\n",
    "from seismic import read_waveforms,read_stations,read_shots"
   ]
  },
  {
   "cell_type": "markdown",
   "id": "b951373a",
   "metadata": {},
   "source": [
    "# Visualization"
   ]
  },
  {
   "cell_type": "markdown",
   "id": "9e240b51",
   "metadata": {},
   "source": [
    "We just cloned the data to understand the raw format"
   ]
  },
  {
   "cell_type": "code",
   "execution_count": null,
   "id": "ed7c4a90",
   "metadata": {},
   "outputs": [],
   "source": [
    "data_path = os.path.join(os.getcwd(),\"FieldCampII_2025\",\"data\",\"ROC_S_050725\")\n",
    "shots_folder = os.path.join(data_path,\"SourceTesting\")\n",
    "waveforms_folder = os.path.join(data_path,\"PwaveSeismic\")\n",
    "stations_folder = os.path.join(waveforms_folder,\"FDSN Information\")\n",
    "\n",
    "print(f\"shots_folder: {shots_folder}\")\n",
    "print(f\"waveforms_folder: {waveforms_folder}\")\n",
    "print(f\"stations_folder: {stations_folder}\")\n",
    "print(\"---------------------------\")\n",
    "print(f\"Existing files in shots_folder: {os.listdir(shots_folder)}\")\n",
    "print(f\"Existing files in waveforms_folder: {os.listdir(waveforms_folder)}\")\n",
    "print(f\"Existing files in stations_folder: {os.listdir(stations_folder)}\")"
   ]
  },
  {
   "cell_type": "markdown",
   "id": "626950db",
   "metadata": {},
   "source": [
    "## Shots"
   ]
  },
  {
   "cell_type": "markdown",
   "id": "91551ec0",
   "metadata": {},
   "source": [
    "We will use read_shots function to read the shots"
   ]
  },
  {
   "cell_type": "code",
   "execution_count": 6,
   "id": "e057a7fe",
   "metadata": {},
   "outputs": [
    {
     "name": "stdout",
     "output_type": "stream",
     "text": [
      "Help on function read_shots in module seismic:\n",
      "\n",
      "read_shots(filepath, gps_start=None)\n",
      "    Parses a custom-formatted CSV file containing GPS time and location data for each shot.\n",
      "    \n",
      "    Parameters\n",
      "    ----------\n",
      "    filepath : str\n",
      "        Path to the input CSV file.\n",
      "    gps_start : datetime.datetime or None\n",
      "        The GPS epoch start time. If None, defaults to January 6, 1980.\n",
      "    \n",
      "    Returns\n",
      "    -------\n",
      "    pd.DataFrame\n",
      "        A DataFrame with columns: shot, year, month, day, hour, minute, second, latitude, longitude.\n",
      "\n"
     ]
    }
   ],
   "source": [
    "help(read_shots)"
   ]
  },
  {
   "cell_type": "code",
   "execution_count": null,
   "id": "86010208",
   "metadata": {},
   "outputs": [],
   "source": [
    "shot_name = \"TB_INT00142.csv\"\n",
    "shot_path = os.path.join(shots_folder,shot_name)\n",
    "shot_df = read_shots(shot_path)\n",
    "print(shot_df.head())"
   ]
  },
  {
   "cell_type": "markdown",
   "id": "8e5dffa7",
   "metadata": {},
   "source": [
    "## Stations"
   ]
  },
  {
   "cell_type": "code",
   "execution_count": 7,
   "id": "3d8dccec",
   "metadata": {},
   "outputs": [
    {
     "name": "stdout",
     "output_type": "stream",
     "text": [
      "Help on function read_stations in module seismic:\n",
      "\n",
      "read_stations(folder_path: str)\n",
      "    Reads all XML files in a specified folder and concatenates them into a single DataFrame.\n",
      "    Parameters\n",
      "    ----------\n",
      "    folder_path : str\n",
      "        Path to the folder containing XML files.\n",
      "    Returns\n",
      "    -------\n",
      "    pd.DataFrame\n",
      "        A DataFrame containing the concatenated data from all XML files.\n",
      "\n"
     ]
    }
   ],
   "source": [
    "help(read_stations)"
   ]
  },
  {
   "cell_type": "code",
   "execution_count": null,
   "id": "6326bd21",
   "metadata": {},
   "outputs": [],
   "source": [
    "stations_df = read_stations(stations_folder)\n",
    "print(stations_df.head())"
   ]
  },
  {
   "cell_type": "markdown",
   "id": "dfcae3f5",
   "metadata": {},
   "source": [
    "## Waveforms"
   ]
  },
  {
   "cell_type": "code",
   "execution_count": 8,
   "id": "f7f504f0",
   "metadata": {},
   "outputs": [
    {
     "name": "stdout",
     "output_type": "stream",
     "text": [
      "Help on function read_waveforms in module seismic:\n",
      "\n",
      "read_waveforms(folder_path: str, station: str = '*', component: str = '*', starttime: obspy.core.utcdatetime.UTCDateTime = None, endtime: obspy.core.utcdatetime.UTCDateTime = None) -> obspy.core.stream.Stream\n",
      "    Reads MiniSEED files using station/component wildcards and filters by time range.\n",
      "    \n",
      "    Parameters:\n",
      "    - folder_path (str): Directory with MiniSEED files.\n",
      "    - station (str): Wildcard for station code (e.g., \"4530*\", \"*\" for all).\n",
      "    - component (str): Wildcard for component (e.g., \"E\", \"Z\", \"*\").\n",
      "    - starttime (UTCDateTime, optional): Start of time window to include.\n",
      "    - endtime (UTCDateTime, optional): End of time window to include.\n",
      "    \n",
      "    Returns:\n",
      "    - stream (obspy.Stream): Combined Stream object with filtered traces.\n",
      "\n"
     ]
    }
   ],
   "source": [
    "help(read_waveforms)"
   ]
  },
  {
   "cell_type": "code",
   "execution_count": null,
   "id": "91104f87",
   "metadata": {},
   "outputs": [],
   "source": [
    "st = read_waveforms(waveforms_folder)\n",
    "st"
   ]
  },
  {
   "cell_type": "markdown",
   "id": "2c026d1c",
   "metadata": {},
   "source": [
    "Feel free to do a more specific query"
   ]
  },
  {
   "cell_type": "code",
   "execution_count": null,
   "id": "82339dec",
   "metadata": {},
   "outputs": [],
   "source": [
    "st = read_waveforms(waveforms_folder,station=\"*243*\",component=\"Z\")\n",
    "st"
   ]
  },
  {
   "cell_type": "code",
   "execution_count": null,
   "id": "21799e2a",
   "metadata": {},
   "outputs": [],
   "source": [
    "st.plot(method=\"full\")"
   ]
  },
  {
   "cell_type": "markdown",
   "id": "9e31e8d4",
   "metadata": {},
   "source": []
  }
 ],
 "metadata": {
  "kernelspec": {
   "display_name": "utd",
   "language": "python",
   "name": "python3"
  },
  "language_info": {
   "codemirror_mode": {
    "name": "ipython",
    "version": 3
   },
   "file_extension": ".py",
   "mimetype": "text/x-python",
   "name": "python",
   "nbconvert_exporter": "python",
   "pygments_lexer": "ipython3",
   "version": "3.11.11"
  }
 },
 "nbformat": 4,
 "nbformat_minor": 5
}
